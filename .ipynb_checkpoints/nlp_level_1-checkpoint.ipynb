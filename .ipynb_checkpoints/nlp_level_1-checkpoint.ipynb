{
 "cells": [
  {
   "cell_type": "markdown",
   "metadata": {},
   "source": [
    "# NLP Tutorial - Level 1\n",
    "\n",
    "Natural Language Processing, or NLP for short, is broadly defined as the automatic manipulation of natural language, like speech and text, by software."
   ]
  },
  {
   "cell_type": "markdown",
   "metadata": {},
   "source": [
    "# The data\n",
    "\n",
    "- Import dataset\n",
    "- Have a look at how it is structured\n"
   ]
  },
  {
   "cell_type": "code",
   "execution_count": 12,
   "metadata": {
    "pycharm": {
     "name": "#%%\n"
    }
   },
   "outputs": [
    {
     "name": "stdout",
     "output_type": "stream",
     "text": [
      "Here we import the packages we are going to need to do the analysis\n"
     ]
    }
   ],
   "source": [
    "print(\"Here we import the packages we are going to need to do the analysis\")\n",
    "import pandas as pd\n",
    "import nltk\n",
    "import matplotlib.pyplot as plt"
   ]
  },
  {
   "cell_type": "code",
   "execution_count": 13,
   "metadata": {
    "pycharm": {
     "name": "#%%\n"
    }
   },
   "outputs": [
    {
     "name": "stdout",
     "output_type": "stream",
     "text": [
      "The dataframe has 14640 rows and 15 columns.\n",
      "Each row is a tweet and each column is some information about the tweet\n",
      "The columns of the dataset are: \n",
      "1 tweet_id\n",
      "2 airline_sentiment\n",
      "3 airline_sentiment_confidence\n",
      "4 negativereason\n",
      "5 negativereason_confidence\n",
      "6 airline\n",
      "7 airline_sentiment_gold\n",
      "8 name\n",
      "9 negativereason_gold\n",
      "10 retweet_count\n",
      "11 text\n",
      "12 tweet_coord\n",
      "13 tweet_created\n",
      "14 tweet_location\n",
      "15 user_timezone\n"
     ]
    }
   ],
   "source": [
    "df = pd.read_csv(\"dataset_sentiment/Tweets.csv\")\n",
    "\n",
    "a,b = df.shape\n",
    "print(\"The dataframe has \" + str(a) +\" rows and \" + str(b) + \" columns.\")\n",
    "print(\"Each row is a tweet and each column is some information about the tweet\")\n",
    "\n",
    "columns = df.columns\n",
    "\n",
    "print(\"The columns of the dataset are: \")\n",
    "for i,k in enumerate(columns): print(i+1, k)\n",
    "\n"
   ]
  },
  {
   "cell_type": "markdown",
   "metadata": {},
   "source": [
    "### What's each column for? \n",
    "\n",
    "We can go to the page where we got the dataset from, and we will find a description of each column: https://www.kaggle.com/crowdflower/twitter-airline-sentiment\n",
    "\n",
    "1. **tweet_id** The ID of the tweet\n",
    "2. **airline_sentiment** The sentiment of the tweet\n",
    "3. **airline_sentiment_confidence** Confidence assigned to the sentiment label i.e. how sure are we that the **airline_sentiment** that was assigned to the tweet is correct. This is a percentage. \n",
    "4. **negativereason** Reason why the tweet is negative \n",
    "5. **negativereason_confidence** How sure are we that the **negativereason** that was assigned to the tweet is correct. This is a percentage.\n",
    "6. **airline** Airline the tweet is about\n",
    "7. **airline_sentiment_gold** \n",
    "8. **name** Name of the twitter user \n",
    "9. **negativereason_gold**\n",
    "10. **retweet_count** How many retweets did the tweet get \n",
    "11. **text** The text of the Tweet\n",
    "12. **tweet_coord** Coordinates of the Tweet \n",
    "13. **tweet_created** Datetime when the Tweet was posted \n",
    "14. **tweet_location** Location of the Tweet\n",
    "15. **user_timezone** Timezone of the Twitter user \n"
   ]
  },
  {
   "cell_type": "markdown",
   "metadata": {},
   "source": [
    "We could use *all* of these columns for analysis. However, for the sake of simplicity **we will only use the following columns:** \n",
    "- tweet_id\n",
    "- airline_sentiment\n",
    "- airline_sentiment_confidence\n",
    "- airline\n",
    "- text"
   ]
  },
  {
   "cell_type": "code",
   "execution_count": 14,
   "metadata": {
    "pycharm": {
     "name": "#%%\n"
    }
   },
   "outputs": [
    {
     "name": "stdout",
     "output_type": "stream",
     "text": [
      "We are going to delete all the columns except id, sentiment, airline and text\n",
      "The dataset now has 14640 rows and 4 columns.\n"
     ]
    }
   ],
   "source": [
    "print(\"We are going to delete all the columns except id, sentiment, airline and text\")\n",
    "\n",
    "df.drop(df.columns.difference(['tweet_id', 'airline_sentiment', 'airline', 'text', 'airline_sentiment_confidence']), 1, inplace=True)\n",
    "\n",
    "a,b = df.shape\n",
    "print(\"The dataset now has \" + str(a) +\" rows and \" + str(b) + \" columns.\")"
   ]
  },
  {
   "cell_type": "code",
   "execution_count": 15,
   "metadata": {},
   "outputs": [
    {
     "name": "stdout",
     "output_type": "stream",
     "text": [
      "Let's look at a couple of rows as an example: \n"
     ]
    },
    {
     "data": {
      "text/html": [
       "<div>\n",
       "<style scoped>\n",
       "    .dataframe tbody tr th:only-of-type {\n",
       "        vertical-align: middle;\n",
       "    }\n",
       "\n",
       "    .dataframe tbody tr th {\n",
       "        vertical-align: top;\n",
       "    }\n",
       "\n",
       "    .dataframe thead th {\n",
       "        text-align: right;\n",
       "    }\n",
       "</style>\n",
       "<table border=\"1\" class=\"dataframe\">\n",
       "  <thead>\n",
       "    <tr style=\"text-align: right;\">\n",
       "      <th></th>\n",
       "      <th>tweet_id</th>\n",
       "      <th>airline_sentiment</th>\n",
       "      <th>airline</th>\n",
       "      <th>text</th>\n",
       "    </tr>\n",
       "  </thead>\n",
       "  <tbody>\n",
       "    <tr>\n",
       "      <th>0</th>\n",
       "      <td>570306133677760513</td>\n",
       "      <td>neutral</td>\n",
       "      <td>Virgin America</td>\n",
       "      <td>@VirginAmerica What @dhepburn said.</td>\n",
       "    </tr>\n",
       "    <tr>\n",
       "      <th>1</th>\n",
       "      <td>570301130888122368</td>\n",
       "      <td>positive</td>\n",
       "      <td>Virgin America</td>\n",
       "      <td>@VirginAmerica plus you've added commercials t...</td>\n",
       "    </tr>\n",
       "    <tr>\n",
       "      <th>2</th>\n",
       "      <td>570301083672813571</td>\n",
       "      <td>neutral</td>\n",
       "      <td>Virgin America</td>\n",
       "      <td>@VirginAmerica I didn't today... Must mean I n...</td>\n",
       "    </tr>\n",
       "  </tbody>\n",
       "</table>\n",
       "</div>"
      ],
      "text/plain": [
       "             tweet_id airline_sentiment         airline  \\\n",
       "0  570306133677760513           neutral  Virgin America   \n",
       "1  570301130888122368          positive  Virgin America   \n",
       "2  570301083672813571           neutral  Virgin America   \n",
       "\n",
       "                                                text  \n",
       "0                @VirginAmerica What @dhepburn said.  \n",
       "1  @VirginAmerica plus you've added commercials t...  \n",
       "2  @VirginAmerica I didn't today... Must mean I n...  "
      ]
     },
     "execution_count": 15,
     "metadata": {},
     "output_type": "execute_result"
    }
   ],
   "source": [
    "print(\"Let's look at a couple of rows as an example: \")\n",
    "df.head(3)"
   ]
  },
  {
   "cell_type": "markdown",
   "metadata": {},
   "source": [
    "For this analysis we will also delete all the Tweets with a neutral sentiment, since we are only interested in classifying tweets as good or bad."
   ]
  },
  {
   "cell_type": "code",
   "execution_count": 21,
   "metadata": {
    "pycharm": {
     "name": "#%%\n"
    }
   },
   "outputs": [
    {
     "name": "stdout",
     "output_type": "stream",
     "text": [
      "We delete all the rows with a neutral sentiment \n",
      "The dataset now has 11541 rows and 4 columns.\n",
      "We print again the first couple of rows \n"
     ]
    },
    {
     "data": {
      "text/html": [
       "<div>\n",
       "<style scoped>\n",
       "    .dataframe tbody tr th:only-of-type {\n",
       "        vertical-align: middle;\n",
       "    }\n",
       "\n",
       "    .dataframe tbody tr th {\n",
       "        vertical-align: top;\n",
       "    }\n",
       "\n",
       "    .dataframe thead th {\n",
       "        text-align: right;\n",
       "    }\n",
       "</style>\n",
       "<table border=\"1\" class=\"dataframe\">\n",
       "  <thead>\n",
       "    <tr style=\"text-align: right;\">\n",
       "      <th></th>\n",
       "      <th>tweet_id</th>\n",
       "      <th>airline_sentiment</th>\n",
       "      <th>airline</th>\n",
       "      <th>text</th>\n",
       "    </tr>\n",
       "  </thead>\n",
       "  <tbody>\n",
       "    <tr>\n",
       "      <th>1</th>\n",
       "      <td>570301130888122368</td>\n",
       "      <td>positive</td>\n",
       "      <td>Virgin America</td>\n",
       "      <td>@VirginAmerica plus you've added commercials t...</td>\n",
       "    </tr>\n",
       "    <tr>\n",
       "      <th>3</th>\n",
       "      <td>570301031407624196</td>\n",
       "      <td>negative</td>\n",
       "      <td>Virgin America</td>\n",
       "      <td>@VirginAmerica it's really aggressive to blast...</td>\n",
       "    </tr>\n",
       "    <tr>\n",
       "      <th>4</th>\n",
       "      <td>570300817074462722</td>\n",
       "      <td>negative</td>\n",
       "      <td>Virgin America</td>\n",
       "      <td>@VirginAmerica and it's a really big bad thing...</td>\n",
       "    </tr>\n",
       "    <tr>\n",
       "      <th>5</th>\n",
       "      <td>570300767074181121</td>\n",
       "      <td>negative</td>\n",
       "      <td>Virgin America</td>\n",
       "      <td>@VirginAmerica seriously would pay $30 a fligh...</td>\n",
       "    </tr>\n",
       "    <tr>\n",
       "      <th>6</th>\n",
       "      <td>570300616901320704</td>\n",
       "      <td>positive</td>\n",
       "      <td>Virgin America</td>\n",
       "      <td>@VirginAmerica yes, nearly every time I fly VX...</td>\n",
       "    </tr>\n",
       "    <tr>\n",
       "      <th>8</th>\n",
       "      <td>570299953286942721</td>\n",
       "      <td>positive</td>\n",
       "      <td>Virgin America</td>\n",
       "      <td>@virginamerica Well, I didn't…but NOW I DO! :-D</td>\n",
       "    </tr>\n",
       "    <tr>\n",
       "      <th>9</th>\n",
       "      <td>570295459631263746</td>\n",
       "      <td>positive</td>\n",
       "      <td>Virgin America</td>\n",
       "      <td>@VirginAmerica it was amazing, and arrived an ...</td>\n",
       "    </tr>\n",
       "    <tr>\n",
       "      <th>11</th>\n",
       "      <td>570289724453216256</td>\n",
       "      <td>positive</td>\n",
       "      <td>Virgin America</td>\n",
       "      <td>@VirginAmerica I &amp;lt;3 pretty graphics. so muc...</td>\n",
       "    </tr>\n",
       "    <tr>\n",
       "      <th>12</th>\n",
       "      <td>570289584061480960</td>\n",
       "      <td>positive</td>\n",
       "      <td>Virgin America</td>\n",
       "      <td>@VirginAmerica This is such a great deal! Alre...</td>\n",
       "    </tr>\n",
       "    <tr>\n",
       "      <th>13</th>\n",
       "      <td>570287408438120448</td>\n",
       "      <td>positive</td>\n",
       "      <td>Virgin America</td>\n",
       "      <td>@VirginAmerica @virginmedia I'm flying your #f...</td>\n",
       "    </tr>\n",
       "  </tbody>\n",
       "</table>\n",
       "</div>"
      ],
      "text/plain": [
       "              tweet_id airline_sentiment         airline  \\\n",
       "1   570301130888122368          positive  Virgin America   \n",
       "3   570301031407624196          negative  Virgin America   \n",
       "4   570300817074462722          negative  Virgin America   \n",
       "5   570300767074181121          negative  Virgin America   \n",
       "6   570300616901320704          positive  Virgin America   \n",
       "8   570299953286942721          positive  Virgin America   \n",
       "9   570295459631263746          positive  Virgin America   \n",
       "11  570289724453216256          positive  Virgin America   \n",
       "12  570289584061480960          positive  Virgin America   \n",
       "13  570287408438120448          positive  Virgin America   \n",
       "\n",
       "                                                 text  \n",
       "1   @VirginAmerica plus you've added commercials t...  \n",
       "3   @VirginAmerica it's really aggressive to blast...  \n",
       "4   @VirginAmerica and it's a really big bad thing...  \n",
       "5   @VirginAmerica seriously would pay $30 a fligh...  \n",
       "6   @VirginAmerica yes, nearly every time I fly VX...  \n",
       "8     @virginamerica Well, I didn't…but NOW I DO! :-D  \n",
       "9   @VirginAmerica it was amazing, and arrived an ...  \n",
       "11  @VirginAmerica I &lt;3 pretty graphics. so muc...  \n",
       "12  @VirginAmerica This is such a great deal! Alre...  \n",
       "13  @VirginAmerica @virginmedia I'm flying your #f...  "
      ]
     },
     "execution_count": 21,
     "metadata": {},
     "output_type": "execute_result"
    }
   ],
   "source": [
    "print(\"We delete all the rows with a neutral sentiment \")\n",
    "df = df[df['airline_sentiment'] != \"neutral\"]\n",
    "df = df[df['airline_sentiment'] != \"neutral\"]\n",
    "\n",
    "\n",
    "a,b = df.shape\n",
    "print(\"The dataset now has \" + str(a) +\" rows and \" + str(b) + \" columns.\")\n",
    "\n",
    "print(\"We print again the first couple of rows \")\n",
    "df.head(10)"
   ]
  },
  {
   "cell_type": "code",
   "execution_count": 18,
   "metadata": {
    "pycharm": {
     "name": "#%%\n"
    }
   },
   "outputs": [
    {
     "name": "stdout",
     "output_type": "stream",
     "text": [
      "Let's see how many Tweets we have for each sentiment tag\n"
     ]
    },
    {
     "data": {
      "text/plain": [
       "<AxesSubplot:>"
      ]
     },
     "execution_count": 18,
     "metadata": {},
     "output_type": "execute_result"
    },
    {
     "data": {
      "image/png": "[encoded data removed]",
      "text/plain": [
       "<Figure size 432x288 with 1 Axes>"
      ]
     },
     "metadata": {
      "needs_background": "light"
     },
     "output_type": "display_data"
    }
   ],
   "source": [
    "print(\"Let's see how many Tweets we have for each sentiment tag\")\n",
    "\n",
    "column_name = airline_sentiment\n",
    "\n",
    "df[column_name].value_counts().plot.bar()"
   ]
  },
  {
   "cell_type": "code",
   "execution_count": 20,
   "metadata": {
    "pycharm": {
     "name": "#%%\n"
    }
   },
   "outputs": [
    {
     "name": "stdout",
     "output_type": "stream",
     "text": [
      "Let's see how many Tweets we have for each sentiment tag\n"
     ]
    },
    {
     "data": {
      "text/plain": [
       "<AxesSubplot:>"
      ]
     },
     "execution_count": 20,
     "metadata": {},
     "output_type": "execute_result"
    },
    {
     "data": {
      "image/png": "[encoded data removed]",
      "text/plain": [
       "<Figure size 432x288 with 1 Axes>"
      ]
     },
     "metadata": {
      "needs_background": "light"
     },
     "output_type": "display_data"
    }
   ],
   "source": [
    "print(\"Let's see how many Tweets we have for each airline\")\n",
    "\n",
    "column_name = airline\n",
    "\n",
    "df[column_name].value_counts().plot.bar()"
   ]
  },
  {
   "cell_type": "markdown",
   "metadata": {
    "pycharm": {
     "name": "#%%\n"
    }
   },
   "source": [
    "### What about the text?"
   ]
  },
  {
   "cell_type": "code",
   "execution_count": 39,
   "metadata": {},
   "outputs": [
    {
     "name": "stdout",
     "output_type": "stream",
     "text": [
      "There is a total of 11541 Tweets. Some examples are: \n",
      "\n",
      "\n",
      "1 positive @VirginAmerica plus you've added commercials to the experience... tacky. \n",
      "\n",
      "2 negative @VirginAmerica it's really aggressive to blast obnoxious \"entertainment\" in your guests' faces &amp; they have little recourse \n",
      "\n",
      "3 negative @VirginAmerica and it's a really big bad thing about it \n",
      "\n",
      "4 negative @VirginAmerica seriously would pay $30 a flight for seats that didn't have this playing.\n",
      "it's really the only bad thing about flying VA \n",
      "\n",
      "5 positive @VirginAmerica yes, nearly every time I fly VX this “ear worm” won’t go away :) \n",
      "\n",
      "6 positive @virginamerica Well, I didn't…but NOW I DO! :-D \n",
      "\n",
      "7 positive @VirginAmerica it was amazing, and arrived an hour early. You're too good to me. \n",
      "\n",
      "8 positive @VirginAmerica I &lt;3 pretty graphics. so much better than minimal iconography. :D \n",
      "\n",
      "9 positive @VirginAmerica This is such a great deal! Already thinking about my 2nd trip to @Australia &amp; I haven't even gone on my 1st trip yet! ;p \n",
      "\n",
      "10 positive @VirginAmerica @virginmedia I'm flying your #fabulous #Seductive skies again! U take all the #stress away from travel http://t.co/ahlXHhKiyn \n",
      "\n"
     ]
    }
   ],
   "source": [
    "n_tweets = len(df['text'])\n",
    "print(\"There is a total of \" + str(n_tweets) + \" Tweets. Some examples are: \\n\\n\")\n",
    "\n",
    "for i,k in enumerate(df['text'][0:10]): print(i+1, df['airline_sentiment'].to_list()[i],  k, \"\\n\")"
   ]
  },
  {
   "cell_type": "code",
   "execution_count": null,
   "metadata": {},
   "outputs": [],
   "source": []
  }
 ],
 "metadata": {
  "kernelspec": {
   "display_name": "PyCharm (lunchnlearn)",
   "language": "python",
   "name": "pycharm-d77c99da"
  },
  "language_info": {
   "codemirror_mode": {
    "name": "ipython",
    "version": 3
   },
   "file_extension": ".py",
   "mimetype": "text/x-python",
   "name": "python",
   "nbconvert_exporter": "python",
   "pygments_lexer": "ipython3",
   "version": "3.8.2"
  }
 },
 "nbformat": 4,
 "nbformat_minor": 1
}
