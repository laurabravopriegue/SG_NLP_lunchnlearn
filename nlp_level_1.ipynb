{
 "cells": [
  {
   "cell_type": "markdown",
   "metadata": {},
   "source": [
    "# NLP Tutorial - Level 1\n",
    "\n",
    "Natural Language Processing, or NLP for short, is broadly defined as the automatic manipulation of natural language, like speech and text, by software."
   ]
  },
  {
   "cell_type": "markdown",
   "metadata": {},
   "source": [
    "# The data\n",
    "\n",
    "- Import dataset\n",
    "- Have a look at how it is structured\n"
   ]
  },
  {
   "cell_type": "code",
   "execution_count": 1,
   "metadata": {
    "pycharm": {
     "name": "#%%\n"
    }
   },
   "outputs": [
    {
     "name": "stdout",
     "output_type": "stream",
     "text": [
      "Here we import the packages we are going to need to do the analysis\n"
     ]
    }
   ],
   "source": [
    "print(\"Here we import the packages we are going to need to do the analysis\")\n",
    "import pandas as pd\n",
    "import nltk\n",
    "import matplotlib.pyplot as plt"
   ]
  },
  {
   "cell_type": "code",
   "execution_count": 2,
   "metadata": {
    "pycharm": {
     "name": "#%%\n"
    }
   },
   "outputs": [
    {
     "name": "stdout",
     "output_type": "stream",
     "text": [
      "The dataframe has 14640 rows and 15 columns.\n",
      "Each row is a tweet and each column is some information about the tweet \n",
      "\n",
      "The columns of the dataset are: \n",
      "\n",
      "1 tweet_id\n",
      "2 airline_sentiment\n",
      "3 airline_sentiment_confidence\n",
      "4 negativereason\n",
      "5 negativereason_confidence\n",
      "6 airline\n",
      "7 airline_sentiment_gold\n",
      "8 name\n",
      "9 negativereason_gold\n",
      "10 retweet_count\n",
      "11 text\n",
      "12 tweet_coord\n",
      "13 tweet_created\n",
      "14 tweet_location\n",
      "15 user_timezone\n"
     ]
    }
   ],
   "source": [
    "df = pd.read_csv(\"dataset_sentiment/Tweets.csv\")\n",
    "\n",
    "a,b = df.shape\n",
    "print(\"The dataframe has \" + str(a) +\" rows and \" + str(b) + \" columns.\")\n",
    "print(\"Each row is a tweet and each column is some information about the tweet \\n\")\n",
    "\n",
    "columns = df.columns\n",
    "\n",
    "print(\"The columns of the dataset are: \\n\")\n",
    "for i,k in enumerate(columns): print(i+1, k)\n",
    "\n"
   ]
  },
  {
   "cell_type": "markdown",
   "metadata": {},
   "source": [
    "### What's each column for? \n",
    "\n",
    "We can go to the page where we got the dataset from, and we will find a description of each column: https://www.kaggle.com/crowdflower/twitter-airline-sentiment\n",
    "\n",
    "1. **tweet_id** The ID of the tweet\n",
    "2. **airline_sentiment** The sentiment of the tweet\n",
    "3. **airline_sentiment_confidence** Confidence assigned to the sentiment label i.e. how sure are we that the **airline_sentiment** that was assigned to the tweet is correct. This is a percentage. \n",
    "4. **negativereason** Reason why the tweet is negative \n",
    "5. **negativereason_confidence** How sure are we that the **negativereason** that was assigned to the tweet is correct. This is a percentage.\n",
    "6. **airline** Airline the tweet is about\n",
    "7. **airline_sentiment_gold** \n",
    "8. **name** Name of the twitter user \n",
    "9. **negativereason_gold**\n",
    "10. **retweet_count** How many retweets did the tweet get \n",
    "11. **text** The text of the Tweet\n",
    "12. **tweet_coord** Coordinates of the Tweet \n",
    "13. **tweet_created** Datetime when the Tweet was posted \n",
    "14. **tweet_location** Location of the Tweet\n",
    "15. **user_timezone** Timezone of the Twitter user \n"
   ]
  },
  {
   "cell_type": "markdown",
   "metadata": {},
   "source": [
    "We could use *all* of these columns for analysis. However, for the sake of simplicity **we will only use the following columns:** \n",
    "- tweet_id\n",
    "- airline_sentiment\n",
    "- airline_sentiment_confidence\n",
    "- airline\n",
    "- text"
   ]
  },
  {
   "cell_type": "code",
   "execution_count": 3,
   "metadata": {
    "pycharm": {
     "name": "#%%\n"
    }
   },
   "outputs": [
    {
     "name": "stdout",
     "output_type": "stream",
     "text": [
      "We are going to delete all the columns except id, sentiment, airline and text...\n",
      "The dataset now has 14640 rows and 5 columns.\n"
     ]
    }
   ],
   "source": [
    "print(\"We are going to delete all the columns except id, sentiment, airline and text...\")\n",
    "\n",
    "df.drop(df.columns.difference(['tweet_id', 'airline_sentiment', 'airline', 'text', 'airline_sentiment_confidence']), 1, inplace=True)\n",
    "\n",
    "a,b = df.shape\n",
    "print(\"The dataset now has \" + str(a) +\" rows and \" + str(b) + \" columns.\")"
   ]
  },
  {
   "cell_type": "code",
   "execution_count": 102,
   "metadata": {},
   "outputs": [
    {
     "name": "stdout",
     "output_type": "stream",
     "text": [
      "Let's look at a couple of rows as an example: \n"
     ]
    },
    {
     "data": {
      "text/html": [
       "<div>\n",
       "<style scoped>\n",
       "    .dataframe tbody tr th:only-of-type {\n",
       "        vertical-align: middle;\n",
       "    }\n",
       "\n",
       "    .dataframe tbody tr th {\n",
       "        vertical-align: top;\n",
       "    }\n",
       "\n",
       "    .dataframe thead th {\n",
       "        text-align: right;\n",
       "    }\n",
       "</style>\n",
       "<table border=\"1\" class=\"dataframe\">\n",
       "  <thead>\n",
       "    <tr style=\"text-align: right;\">\n",
       "      <th></th>\n",
       "      <th>tweet_id</th>\n",
       "      <th>airline_sentiment</th>\n",
       "      <th>airline_sentiment_confidence</th>\n",
       "      <th>airline</th>\n",
       "      <th>text</th>\n",
       "    </tr>\n",
       "  </thead>\n",
       "  <tbody>\n",
       "    <tr>\n",
       "      <th>0</th>\n",
       "      <td>570306133677760513</td>\n",
       "      <td>neutral</td>\n",
       "      <td>1.0000</td>\n",
       "      <td>Virgin America</td>\n",
       "      <td>@VirginAmerica What @dhepburn said.</td>\n",
       "    </tr>\n",
       "    <tr>\n",
       "      <th>1</th>\n",
       "      <td>570301130888122368</td>\n",
       "      <td>negative</td>\n",
       "      <td>0.3486</td>\n",
       "      <td>Virgin America</td>\n",
       "      <td>@VirginAmerica plus you've added commercials t...</td>\n",
       "    </tr>\n",
       "    <tr>\n",
       "      <th>2</th>\n",
       "      <td>570301083672813571</td>\n",
       "      <td>neutral</td>\n",
       "      <td>0.6837</td>\n",
       "      <td>Virgin America</td>\n",
       "      <td>@VirginAmerica I didn't today... Must mean I n...</td>\n",
       "    </tr>\n",
       "  </tbody>\n",
       "</table>\n",
       "</div>"
      ],
      "text/plain": [
       "             tweet_id airline_sentiment  airline_sentiment_confidence  \\\n",
       "0  570306133677760513           neutral                        1.0000   \n",
       "1  570301130888122368          negative                        0.3486   \n",
       "2  570301083672813571           neutral                        0.6837   \n",
       "\n",
       "          airline                                               text  \n",
       "0  Virgin America                @VirginAmerica What @dhepburn said.  \n",
       "1  Virgin America  @VirginAmerica plus you've added commercials t...  \n",
       "2  Virgin America  @VirginAmerica I didn't today... Must mean I n...  "
      ]
     },
     "execution_count": 102,
     "metadata": {},
     "output_type": "execute_result"
    }
   ],
   "source": [
    "print(\"Let's look at a couple of rows as an example: \")\n",
    "df.head(3)"
   ]
  },
  {
   "cell_type": "markdown",
   "metadata": {},
   "source": [
    "For this analysis **we will also delete all the Tweets with a neutral sentiment**, since we are only interested in classifying tweets as good or bad.\n",
    "\n",
    "Also, we will only keep those Tweets for whcih the sentiment confidence is very high, over a 0.7. We don't want labels that could be mistaken."
   ]
  },
  {
   "cell_type": "code",
   "execution_count": 4,
   "metadata": {
    "pycharm": {
     "name": "#%%\n"
    }
   },
   "outputs": [
    {
     "name": "stdout",
     "output_type": "stream",
     "text": [
      "We delete all the rows with a neutral sentiment \n",
      "We delete all the rows with a sentiment confidence below 0.7 \n",
      "The dataset now has 9134 rows and 5 columns.\n"
     ]
    }
   ],
   "source": [
    "print(\"We delete all the rows with a neutral sentiment \")\n",
    "df = df[df['airline_sentiment'] != \"neutral\"]\n",
    "\n",
    "print(\"We delete all the rows with a sentiment confidence below 0.7 \")\n",
    "df = df[df['airline_sentiment_confidence'] >= 0.7]\n",
    "\n",
    "\n",
    "a,b = df.shape\n",
    "print(\"The dataset now has \" + str(a) +\" rows and \" + str(b) + \" columns.\")\n"
   ]
  },
  {
   "cell_type": "code",
   "execution_count": 104,
   "metadata": {},
   "outputs": [
    {
     "name": "stdout",
     "output_type": "stream",
     "text": [
      "We print again the first couple of rows \n"
     ]
    },
    {
     "data": {
      "text/html": [
       "<div>\n",
       "<style scoped>\n",
       "    .dataframe tbody tr th:only-of-type {\n",
       "        vertical-align: middle;\n",
       "    }\n",
       "\n",
       "    .dataframe tbody tr th {\n",
       "        vertical-align: top;\n",
       "    }\n",
       "\n",
       "    .dataframe thead th {\n",
       "        text-align: right;\n",
       "    }\n",
       "</style>\n",
       "<table border=\"1\" class=\"dataframe\">\n",
       "  <thead>\n",
       "    <tr style=\"text-align: right;\">\n",
       "      <th></th>\n",
       "      <th>tweet_id</th>\n",
       "      <th>airline_sentiment</th>\n",
       "      <th>airline_sentiment_confidence</th>\n",
       "      <th>airline</th>\n",
       "      <th>text</th>\n",
       "    </tr>\n",
       "  </thead>\n",
       "  <tbody>\n",
       "    <tr>\n",
       "      <th>3</th>\n",
       "      <td>570301031407624196</td>\n",
       "      <td>negative</td>\n",
       "      <td>1.0</td>\n",
       "      <td>Virgin America</td>\n",
       "      <td>@VirginAmerica it's really aggressive to blast...</td>\n",
       "    </tr>\n",
       "    <tr>\n",
       "      <th>4</th>\n",
       "      <td>570300817074462722</td>\n",
       "      <td>negative</td>\n",
       "      <td>1.0</td>\n",
       "      <td>Virgin America</td>\n",
       "      <td>@VirginAmerica and it's a really big bad thing...</td>\n",
       "    </tr>\n",
       "    <tr>\n",
       "      <th>5</th>\n",
       "      <td>570300767074181121</td>\n",
       "      <td>negative</td>\n",
       "      <td>1.0</td>\n",
       "      <td>Virgin America</td>\n",
       "      <td>@VirginAmerica seriously would pay $30 a fligh...</td>\n",
       "    </tr>\n",
       "    <tr>\n",
       "      <th>9</th>\n",
       "      <td>570295459631263746</td>\n",
       "      <td>positive</td>\n",
       "      <td>1.0</td>\n",
       "      <td>Virgin America</td>\n",
       "      <td>@VirginAmerica it was amazing, and arrived an ...</td>\n",
       "    </tr>\n",
       "    <tr>\n",
       "      <th>11</th>\n",
       "      <td>570289724453216256</td>\n",
       "      <td>positive</td>\n",
       "      <td>1.0</td>\n",
       "      <td>Virgin America</td>\n",
       "      <td>@VirginAmerica I &amp;lt;3 pretty graphics. so muc...</td>\n",
       "    </tr>\n",
       "  </tbody>\n",
       "</table>\n",
       "</div>"
      ],
      "text/plain": [
       "              tweet_id airline_sentiment  airline_sentiment_confidence  \\\n",
       "3   570301031407624196          negative                           1.0   \n",
       "4   570300817074462722          negative                           1.0   \n",
       "5   570300767074181121          negative                           1.0   \n",
       "9   570295459631263746          positive                           1.0   \n",
       "11  570289724453216256          positive                           1.0   \n",
       "\n",
       "           airline                                               text  \n",
       "3   Virgin America  @VirginAmerica it's really aggressive to blast...  \n",
       "4   Virgin America  @VirginAmerica and it's a really big bad thing...  \n",
       "5   Virgin America  @VirginAmerica seriously would pay $30 a fligh...  \n",
       "9   Virgin America  @VirginAmerica it was amazing, and arrived an ...  \n",
       "11  Virgin America  @VirginAmerica I &lt;3 pretty graphics. so muc...  "
      ]
     },
     "execution_count": 104,
     "metadata": {},
     "output_type": "execute_result"
    }
   ],
   "source": [
    "print(\"We print again the first couple of rows \")\n",
    "df.head(5)"
   ]
  },
  {
   "cell_type": "markdown",
   "metadata": {},
   "source": [
    "Cool! This is the final dataset we are going to be working with! Let's now get some general statistics..."
   ]
  },
  {
   "cell_type": "code",
   "execution_count": 105,
   "metadata": {
    "pycharm": {
     "name": "#%%\n"
    }
   },
   "outputs": [
    {
     "name": "stdout",
     "output_type": "stream",
     "text": [
      "Let's see how many Tweets we have for each sentiment tag\n"
     ]
    },
    {
     "data": {
      "text/plain": [
       "<AxesSubplot:>"
      ]
     },
     "execution_count": 105,
     "metadata": {},
     "output_type": "execute_result"
    },
    {
     "data": {
      "image/png": "[encoded data removed]",
      "text/plain": [
       "<Figure size 432x288 with 1 Axes>"
      ]
     },
     "metadata": {
      "needs_background": "light"
     },
     "output_type": "display_data"
    }
   ],
   "source": [
    "print(\"Let's see how many Tweets we have for each sentiment tag\")\n",
    "\n",
    "column_name = 'airline_sentiment'\n",
    "\n",
    "df[column_name].value_counts().plot.bar()"
   ]
  },
  {
   "cell_type": "code",
   "execution_count": 106,
   "metadata": {
    "pycharm": {
     "name": "#%%\n"
    }
   },
   "outputs": [
    {
     "name": "stdout",
     "output_type": "stream",
     "text": [
      "Let's see how many Tweets we have for each airline\n"
     ]
    },
    {
     "data": {
      "text/plain": [
       "<AxesSubplot:>"
      ]
     },
     "execution_count": 106,
     "metadata": {},
     "output_type": "execute_result"
    },
    {
     "data": {
      "image/png": "[encoded data removed]",
      "text/plain": [
       "<Figure size 432x288 with 1 Axes>"
      ]
     },
     "metadata": {
      "needs_background": "light"
     },
     "output_type": "display_data"
    }
   ],
   "source": [
    "print(\"Let's see how many Tweets we have for each airline\")\n",
    "\n",
    "column_name = 'airline'\n",
    "\n",
    "df[column_name].value_counts().plot.bar()"
   ]
  },
  {
   "cell_type": "markdown",
   "metadata": {
    "pycharm": {
     "name": "#%%\n"
    }
   },
   "source": [
    "### What about the text?"
   ]
  },
  {
   "cell_type": "code",
   "execution_count": 107,
   "metadata": {},
   "outputs": [
    {
     "name": "stdout",
     "output_type": "stream",
     "text": [
      "There is a total of 9134 Tweets. Some examples are: \n",
      "\n",
      "\n",
      "1 @VirginAmerica it's really aggressive to blast obnoxious \"entertainment\" in your guests' faces &amp; they have little recourse (negative)\n",
      "\n",
      "2 @VirginAmerica and it's a really big bad thing about it (negative)\n",
      "\n",
      "3 @VirginAmerica seriously would pay $30 a flight for seats that didn't have this playing.\n",
      "it's really the only bad thing about flying VA (negative)\n",
      "\n",
      "4 @VirginAmerica it was amazing, and arrived an hour early. You're too good to me. (positive)\n",
      "\n",
      "5 @VirginAmerica I &lt;3 pretty graphics. so much better than minimal iconography. :D (positive)\n",
      "\n",
      "6 @VirginAmerica This is such a great deal! Already thinking about my 2nd trip to @Australia &amp; I haven't even gone on my 1st trip yet! ;p (positive)\n",
      "\n",
      "7 @VirginAmerica Thanks! (positive)\n",
      "\n",
      "8 @VirginAmerica So excited for my first cross country flight LAX to MCO I've heard nothing but great things about Virgin America. #29DaysToGo (positive)\n",
      "\n",
      "9 @VirginAmerica  I flew from NYC to SFO last week and couldn't fully sit in my seat due to two large gentleman on either side of me. HELP! (negative)\n",
      "\n",
      "10 I ❤️ flying @VirginAmerica. ☺️👍 (positive)\n",
      "\n"
     ]
    }
   ],
   "source": [
    "n_tweets = len(df['text'])\n",
    "print(\"There is a total of \" + str(n_tweets) + \" Tweets. Some examples are: \\n\\n\")\n",
    "\n",
    "for i,k in enumerate(df['text'][0:10]): print(i+1,  k, \"(\" + str(df['airline_sentiment'].to_list()[i]) + \")\\n\")"
   ]
  },
  {
   "cell_type": "markdown",
   "metadata": {},
   "source": [
    "### Let's start the cleaning! \n",
    "\n",
    "We can start the cleaning by: \n",
    "\n",
    "- making everything lowercase\n",
    "- removing # sign of hashtags \n",
    "- removing usernames \n",
    "- removing symbols \n",
    "- removing punctuation\n"
   ]
  },
  {
   "cell_type": "code",
   "execution_count": 108,
   "metadata": {},
   "outputs": [
    {
     "name": "stdout",
     "output_type": "stream",
     "text": [
      "1  it's really aggressive to blast obnoxious \"entertainment\" in your guests' faces they have little recourse (negative)\n",
      "\n",
      "2  and it's a really big bad thing about it (negative)\n",
      "\n",
      "3  seriously would pay $30 a flight for seats that didn't have this playing.\n",
      "it's really the only bad thing about flying va (negative)\n",
      "\n",
      "4  it was amazing, and arrived an hour early. you're too good to me. (positive)\n",
      "\n",
      "5  i pretty graphics. so much better than minimal iconography. :d (positive)\n",
      "\n",
      "6  this is such a great deal! already thinking about my 2nd trip to  i haven't even gone on my 1st trip yet! ;p (positive)\n",
      "\n",
      "7  thanks! (positive)\n",
      "\n",
      "8  so excited for my first cross country flight lax to mco i've heard nothing but great things about virgin america. 29daystogo (positive)\n",
      "\n",
      "9   i flew from nyc to sfo last week and couldn't fully sit in my seat due to two large gentleman on either side of me. help! (negative)\n",
      "\n",
      "10 i ❤️ flying  ☺️👍 (positive)\n",
      "\n"
     ]
    }
   ],
   "source": [
    "import re\n",
    "import string\n",
    "\n",
    "tweets = df['text'].to_list()\n",
    "\n",
    "def basic_cleaning(tweet):\n",
    "    \n",
    "    #This makes text lowercase\n",
    "    tweet = tweet.lower()\n",
    "    #This removes hashtag\n",
    "    tweet = tweet.replace(\"#\",\"\")\n",
    "    #This removes any word that starts with @ i.e. usernames \n",
    "    tweet = re.sub('@[^\\s]+','',tweet)\n",
    "    tweet = re.sub('(?:\\s)&[^, ]*', '', tweet)\n",
    "    \n",
    "    return tweet\n",
    "    \n",
    "tweets = [basic_cleaning(tweet) for tweet in tweets]\n",
    "\n",
    "for i,k in enumerate(tweets[0:10]): print(i+1,  k, \"(\" + str(df['airline_sentiment'].to_list()[i]) + \")\\n\")"
   ]
  },
  {
   "cell_type": "code",
   "execution_count": null,
   "metadata": {},
   "outputs": [],
   "source": []
  },
  {
   "cell_type": "code",
   "execution_count": null,
   "metadata": {},
   "outputs": [],
   "source": []
  },
  {
   "cell_type": "code",
   "execution_count": 109,
   "metadata": {},
   "outputs": [
    {
     "name": "stdout",
     "output_type": "stream",
     "text": [
      "1  it's really aggressive to blast obnoxious \"entertainment\" in your guests' faces they have little recourse (negative)\n",
      "\n",
      "2  and it's a really big bad thing about it (negative)\n",
      "\n",
      "3  seriously would pay $30 a flight for seats that didn't have this playing.\n",
      "it's really the only bad thing about flying va (negative)\n",
      "\n",
      "4  it was amazing, and arrived an hour early. you're too good to me. (positive)\n",
      "\n",
      "5  i pretty graphics. so much better than minimal iconography. good (positive)\n",
      "\n",
      "6  this is such a great deal! already thinking about my 2nd trip to  i haven't even gone on my 1st trip yet! good (positive)\n",
      "\n",
      "7  thanks! (positive)\n",
      "\n",
      "8  so excited for my first cross country flight lax to mco i've heard nothing but great things about virgin america. 29daystogo (positive)\n",
      "\n",
      "9   i flew from nyc to sfo last week and couldn't fully sit in my seat due to two large gentleman on either side of me. help! (negative)\n",
      "\n",
      "10 i ❤️ flying  ☺️👍 (positive)\n",
      "\n"
     ]
    }
   ],
   "source": [
    "import emoji \n",
    "\n",
    "def handling_emojis(tweet):\n",
    "\n",
    "    \n",
    "    #Dealing with happy emojis\n",
    "    tweet = tweet.replace(\":d\",\"good\")\n",
    "    tweet = tweet.replace(\":)\",\"good\")\n",
    "    tweet = tweet.replace(\";d\",\"good\")\n",
    "    tweet = tweet.replace(\";)\",\"good\")\n",
    "    tweet = tweet.replace(\";p\",\"good\")\n",
    "    tweet = tweet.replace(\":p\",\"good\")\n",
    "    \n",
    "    #Dealing with sad emojis\n",
    "    tweet = tweet.replace(\":(\",\"bad\")\n",
    "    tweet = tweet.replace(\":/\",\"bad\")\n",
    "    \n",
    "    return tweet\n",
    "\n",
    "tweets = [handling_emojis(tweet) for tweet in tweets]\n",
    "\n",
    "for i,k in enumerate(tweets[0:10]): print(i+1,  k, \"(\" + str(df['airline_sentiment'].to_list()[i]) + \")\\n\")"
   ]
  },
  {
   "cell_type": "code",
   "execution_count": null,
   "metadata": {},
   "outputs": [],
   "source": []
  },
  {
   "cell_type": "code",
   "execution_count": 110,
   "metadata": {},
   "outputs": [
    {
     "name": "stdout",
     "output_type": "stream",
     "text": [
      "1  it s really aggressive to blast obnoxious  entertainment  in your guests  faces they have little recourse (negative)\n",
      "\n",
      "2  and it s a really big bad thing about it (negative)\n",
      "\n",
      "3  seriously would pay  30 a flight for seats that didn t have this playing \n",
      "it s really the only bad thing about flying va (negative)\n",
      "\n",
      "4  it was amazing  and arrived an hour early  you re too good to me  (positive)\n",
      "\n",
      "5  i pretty graphics  so much better than minimal iconography  good (positive)\n",
      "\n",
      "6  this is such a great deal  already thinking about my 2nd trip to  i haven t even gone on my 1st trip yet  good (positive)\n",
      "\n",
      "7  thanks  (positive)\n",
      "\n",
      "8  so excited for my first cross country flight lax to mco i ve heard nothing but great things about virgin america  29daystogo (positive)\n",
      "\n",
      "9   i flew from nyc to sfo last week and couldn t fully sit in my seat due to two large gentleman on either side of me  help  (negative)\n",
      "\n",
      "10 i :red_heart_selector: flying  :smiling_face_selector::thumbs_up: (positive)\n",
      "\n"
     ]
    }
   ],
   "source": [
    "def some_more_cleaning(tweet):\n",
    "    \n",
    "    for c in string.punctuation: \n",
    "        tweet = tweet.replace(c,\" \")\n",
    "        \n",
    "        \n",
    "    #Deal with complex emojis\n",
    "    tweet = emoji.demojize(tweet)\n",
    "    \n",
    "    return tweet\n",
    "\n",
    "tweets = [some_more_cleaning(tweet) for tweet in tweets]\n",
    "\n",
    "for i,k in enumerate(tweets[0:10]): print(i+1,  k, \"(\" + str(df['airline_sentiment'].to_list()[i]) + \")\\n\")"
   ]
  },
  {
   "cell_type": "code",
   "execution_count": null,
   "metadata": {},
   "outputs": [],
   "source": []
  }
 ],
 "metadata": {
  "kernelspec": {
   "display_name": "PyCharm (lunchnlearn)",
   "language": "python",
   "name": "pycharm-d77c99da"
  },
  "language_info": {
   "codemirror_mode": {
    "name": "ipython",
    "version": 3
   },
   "file_extension": ".py",
   "mimetype": "text/x-python",
   "name": "python",
   "nbconvert_exporter": "python",
   "pygments_lexer": "ipython3",
   "version": "3.8.2"
  }
 },
 "nbformat": 4,
 "nbformat_minor": 1
}